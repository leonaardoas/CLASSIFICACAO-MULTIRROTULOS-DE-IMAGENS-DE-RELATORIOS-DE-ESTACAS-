{
  "cells": [
    {
      "cell_type": "markdown",
      "metadata": {
        "id": "view-in-github",
        "colab_type": "text"
      },
      "source": [
        "<a href=\"https://colab.research.google.com/github/leonaardoas/Projeto-TCC/blob/main/LeNet.ipynb\" target=\"_parent\"><img src=\"https://colab.research.google.com/assets/colab-badge.svg\" alt=\"Open In Colab\"/></a>"
      ]
    },
    {
      "cell_type": "code",
      "execution_count": null,
      "metadata": {
        "colab": {
          "base_uri": "https://localhost:8080/"
        },
        "id": "h_C5cY6snu_D",
        "outputId": "77309a92-ddc4-4e90-f149-53217c057d63"
      },
      "outputs": [
        {
          "output_type": "stream",
          "name": "stdout",
          "text": [
            "Mounted at /content/drive\n"
          ]
        }
      ],
      "source": [
        "from google.colab import drive\n",
        "drive.mount('/content/drive')"
      ]
    },
    {
      "cell_type": "markdown",
      "metadata": {
        "id": "F7QvW4H-bgJT"
      },
      "source": [
        "# **BIBLIOTECAS**"
      ]
    },
    {
      "cell_type": "code",
      "execution_count": null,
      "metadata": {
        "id": "pSdANTIBhTKF"
      },
      "outputs": [],
      "source": [
        "pip install --upgrade tensorflow"
      ]
    },
    {
      "cell_type": "code",
      "execution_count": null,
      "metadata": {
        "id": "IRPOctlPwq0j"
      },
      "outputs": [],
      "source": [
        "import keras\n",
        "from keras.models import Sequential\n",
        "from keras.layers import Dense, Dropout, Flatten\n",
        "from keras.layers import Conv2D, MaxPooling2D\n",
        "import os\n",
        "import tensorflow as tf\n",
        "from tensorflow.keras.layers import AveragePooling2D\n",
        "from keras.preprocessing import image\n",
        "import keras.utils as image\n",
        "import numpy as np\n",
        "import pandas as pd\n",
        "from sklearn.metrics import confusion_matrix, precision_score, f1_score\n",
        "from sklearn.model_selection import train_test_split\n",
        "from tqdm import tqdm\n",
        "from keras.layers import BatchNormalization\n",
        "from tensorflow.keras.layers import Activation\n",
        "import matplotlib.pyplot as plt\n",
        "from sklearn.metrics import multilabel_confusion_matrix\n",
        "from tensorflow.keras import layers, models\n",
        "from keras.utils import to_categorical\n",
        "\n"
      ]
    },
    {
      "cell_type": "markdown",
      "metadata": {
        "id": "NWp-yLZrch96"
      },
      "source": [
        "**VETORIZANDO RÓTULOS**\n",
        "\n",
        "\n"
      ]
    },
    {
      "cell_type": "code",
      "execution_count": null,
      "metadata": {
        "id": "ONpOi8PAmE2E"
      },
      "outputs": [],
      "source": [
        "from pandas.core.algorithms import value_counts\n",
        "labels = ['Hid', 'Rot', 'Vel', 'Conc', 'Ext', 'Perf', 'SF']\n",
        "\n",
        "with open('/content/drive/MyDrive/TCC - Leonardo/4 - Rótulos/4 - Rotulos.csv', 'r') as file:\n",
        "    examples = file.readlines()\n",
        "    labels_all = []\n",
        "    for line_num, ex in enumerate(examples, start=1):\n",
        "        if line_num == 1:  # Pular a primeira linha\n",
        "            continue\n",
        "        label_vec = [0] * len(labels)\n",
        "        for label in labels:\n",
        "            if any(label in ex for label in labels):\n",
        "                if label in ex:\n",
        "                    idx = labels.index(label)\n",
        "                    label_vec[idx] = 1\n",
        "        labels_all.append(label_vec)\n",
        "\n",
        "#print(f'labels: {labels}')\n",
        "#print(labels_all)\n",
        "\n",
        "\n",
        "df = pd.DataFrame(labels_all) #rótulos vetorizados sem o nome das imagens\n",
        "dfy = df.drop(columns = 2, axis=1) #retirar coluna 'velocidade'\n",
        "df1 = pd.read_csv('/content/drive/MyDrive/TCC - Leonardo/4 - Rótulos/4 - Rotulos.csv').drop(columns=['1','2', '3', '4', '5', '6', '7', '8']) #Deixar apenas a coluna com o nome das imagens\n",
        "df2 = pd.concat([df1, df], axis=1) #rótulos vetorizados com o nome das imagens (utilizado para fazer o gráfico, com o parâmetro velocidade)\n",
        "df3 = df2.drop(columns=2, axis=1)\n",
        "\n"
      ]
    },
    {
      "cell_type": "code",
      "source": [
        "df3"
      ],
      "metadata": {
        "colab": {
          "base_uri": "https://localhost:8080/",
          "height": 423
        },
        "id": "7PgpYsnB-fs8",
        "outputId": "ef66c9e1-21d9-4580-86b4-2d5e7294aac3"
      },
      "execution_count": null,
      "outputs": [
        {
          "output_type": "execute_result",
          "data": {
            "text/plain": [
              "       filename  0  1  3  4  5  6\n",
              "0       P38.png  0  0  1  1  1  0\n",
              "1       H42.png  0  0  1  1  1  0\n",
              "2      H102.png  0  0  1  1  1  0\n",
              "3      H139.png  0  0  1  1  1  0\n",
              "4      H959.png  0  0  1  1  1  0\n",
              "...         ... .. .. .. .. .. ..\n",
              "3685  H1569.png  0  0  0  0  0  1\n",
              "3686  H1570.png  0  0  0  0  0  1\n",
              "3687  H1571.png  0  0  0  0  0  1\n",
              "3688  H1572.png  0  0  0  0  0  1\n",
              "3689  H1573.png  0  0  0  0  0  1\n",
              "\n",
              "[3690 rows x 7 columns]"
            ],
            "text/html": [
              "\n",
              "  <div id=\"df-82aacd92-1487-485c-876f-fe79e99b0dd9\" class=\"colab-df-container\">\n",
              "    <div>\n",
              "<style scoped>\n",
              "    .dataframe tbody tr th:only-of-type {\n",
              "        vertical-align: middle;\n",
              "    }\n",
              "\n",
              "    .dataframe tbody tr th {\n",
              "        vertical-align: top;\n",
              "    }\n",
              "\n",
              "    .dataframe thead th {\n",
              "        text-align: right;\n",
              "    }\n",
              "</style>\n",
              "<table border=\"1\" class=\"dataframe\">\n",
              "  <thead>\n",
              "    <tr style=\"text-align: right;\">\n",
              "      <th></th>\n",
              "      <th>filename</th>\n",
              "      <th>0</th>\n",
              "      <th>1</th>\n",
              "      <th>3</th>\n",
              "      <th>4</th>\n",
              "      <th>5</th>\n",
              "      <th>6</th>\n",
              "    </tr>\n",
              "  </thead>\n",
              "  <tbody>\n",
              "    <tr>\n",
              "      <th>0</th>\n",
              "      <td>P38.png</td>\n",
              "      <td>0</td>\n",
              "      <td>0</td>\n",
              "      <td>1</td>\n",
              "      <td>1</td>\n",
              "      <td>1</td>\n",
              "      <td>0</td>\n",
              "    </tr>\n",
              "    <tr>\n",
              "      <th>1</th>\n",
              "      <td>H42.png</td>\n",
              "      <td>0</td>\n",
              "      <td>0</td>\n",
              "      <td>1</td>\n",
              "      <td>1</td>\n",
              "      <td>1</td>\n",
              "      <td>0</td>\n",
              "    </tr>\n",
              "    <tr>\n",
              "      <th>2</th>\n",
              "      <td>H102.png</td>\n",
              "      <td>0</td>\n",
              "      <td>0</td>\n",
              "      <td>1</td>\n",
              "      <td>1</td>\n",
              "      <td>1</td>\n",
              "      <td>0</td>\n",
              "    </tr>\n",
              "    <tr>\n",
              "      <th>3</th>\n",
              "      <td>H139.png</td>\n",
              "      <td>0</td>\n",
              "      <td>0</td>\n",
              "      <td>1</td>\n",
              "      <td>1</td>\n",
              "      <td>1</td>\n",
              "      <td>0</td>\n",
              "    </tr>\n",
              "    <tr>\n",
              "      <th>4</th>\n",
              "      <td>H959.png</td>\n",
              "      <td>0</td>\n",
              "      <td>0</td>\n",
              "      <td>1</td>\n",
              "      <td>1</td>\n",
              "      <td>1</td>\n",
              "      <td>0</td>\n",
              "    </tr>\n",
              "    <tr>\n",
              "      <th>...</th>\n",
              "      <td>...</td>\n",
              "      <td>...</td>\n",
              "      <td>...</td>\n",
              "      <td>...</td>\n",
              "      <td>...</td>\n",
              "      <td>...</td>\n",
              "      <td>...</td>\n",
              "    </tr>\n",
              "    <tr>\n",
              "      <th>3685</th>\n",
              "      <td>H1569.png</td>\n",
              "      <td>0</td>\n",
              "      <td>0</td>\n",
              "      <td>0</td>\n",
              "      <td>0</td>\n",
              "      <td>0</td>\n",
              "      <td>1</td>\n",
              "    </tr>\n",
              "    <tr>\n",
              "      <th>3686</th>\n",
              "      <td>H1570.png</td>\n",
              "      <td>0</td>\n",
              "      <td>0</td>\n",
              "      <td>0</td>\n",
              "      <td>0</td>\n",
              "      <td>0</td>\n",
              "      <td>1</td>\n",
              "    </tr>\n",
              "    <tr>\n",
              "      <th>3687</th>\n",
              "      <td>H1571.png</td>\n",
              "      <td>0</td>\n",
              "      <td>0</td>\n",
              "      <td>0</td>\n",
              "      <td>0</td>\n",
              "      <td>0</td>\n",
              "      <td>1</td>\n",
              "    </tr>\n",
              "    <tr>\n",
              "      <th>3688</th>\n",
              "      <td>H1572.png</td>\n",
              "      <td>0</td>\n",
              "      <td>0</td>\n",
              "      <td>0</td>\n",
              "      <td>0</td>\n",
              "      <td>0</td>\n",
              "      <td>1</td>\n",
              "    </tr>\n",
              "    <tr>\n",
              "      <th>3689</th>\n",
              "      <td>H1573.png</td>\n",
              "      <td>0</td>\n",
              "      <td>0</td>\n",
              "      <td>0</td>\n",
              "      <td>0</td>\n",
              "      <td>0</td>\n",
              "      <td>1</td>\n",
              "    </tr>\n",
              "  </tbody>\n",
              "</table>\n",
              "<p>3690 rows × 7 columns</p>\n",
              "</div>\n",
              "    <div class=\"colab-df-buttons\">\n",
              "\n",
              "  <div class=\"colab-df-container\">\n",
              "    <button class=\"colab-df-convert\" onclick=\"convertToInteractive('df-82aacd92-1487-485c-876f-fe79e99b0dd9')\"\n",
              "            title=\"Convert this dataframe to an interactive table.\"\n",
              "            style=\"display:none;\">\n",
              "\n",
              "  <svg xmlns=\"http://www.w3.org/2000/svg\" height=\"24px\" viewBox=\"0 -960 960 960\">\n",
              "    <path d=\"M120-120v-720h720v720H120Zm60-500h600v-160H180v160Zm220 220h160v-160H400v160Zm0 220h160v-160H400v160ZM180-400h160v-160H180v160Zm440 0h160v-160H620v160ZM180-180h160v-160H180v160Zm440 0h160v-160H620v160Z\"/>\n",
              "  </svg>\n",
              "    </button>\n",
              "\n",
              "  <style>\n",
              "    .colab-df-container {\n",
              "      display:flex;\n",
              "      gap: 12px;\n",
              "    }\n",
              "\n",
              "    .colab-df-convert {\n",
              "      background-color: #E8F0FE;\n",
              "      border: none;\n",
              "      border-radius: 50%;\n",
              "      cursor: pointer;\n",
              "      display: none;\n",
              "      fill: #1967D2;\n",
              "      height: 32px;\n",
              "      padding: 0 0 0 0;\n",
              "      width: 32px;\n",
              "    }\n",
              "\n",
              "    .colab-df-convert:hover {\n",
              "      background-color: #E2EBFA;\n",
              "      box-shadow: 0px 1px 2px rgba(60, 64, 67, 0.3), 0px 1px 3px 1px rgba(60, 64, 67, 0.15);\n",
              "      fill: #174EA6;\n",
              "    }\n",
              "\n",
              "    .colab-df-buttons div {\n",
              "      margin-bottom: 4px;\n",
              "    }\n",
              "\n",
              "    [theme=dark] .colab-df-convert {\n",
              "      background-color: #3B4455;\n",
              "      fill: #D2E3FC;\n",
              "    }\n",
              "\n",
              "    [theme=dark] .colab-df-convert:hover {\n",
              "      background-color: #434B5C;\n",
              "      box-shadow: 0px 1px 3px 1px rgba(0, 0, 0, 0.15);\n",
              "      filter: drop-shadow(0px 1px 2px rgba(0, 0, 0, 0.3));\n",
              "      fill: #FFFFFF;\n",
              "    }\n",
              "  </style>\n",
              "\n",
              "    <script>\n",
              "      const buttonEl =\n",
              "        document.querySelector('#df-82aacd92-1487-485c-876f-fe79e99b0dd9 button.colab-df-convert');\n",
              "      buttonEl.style.display =\n",
              "        google.colab.kernel.accessAllowed ? 'block' : 'none';\n",
              "\n",
              "      async function convertToInteractive(key) {\n",
              "        const element = document.querySelector('#df-82aacd92-1487-485c-876f-fe79e99b0dd9');\n",
              "        const dataTable =\n",
              "          await google.colab.kernel.invokeFunction('convertToInteractive',\n",
              "                                                    [key], {});\n",
              "        if (!dataTable) return;\n",
              "\n",
              "        const docLinkHtml = 'Like what you see? Visit the ' +\n",
              "          '<a target=\"_blank\" href=https://colab.research.google.com/notebooks/data_table.ipynb>data table notebook</a>'\n",
              "          + ' to learn more about interactive tables.';\n",
              "        element.innerHTML = '';\n",
              "        dataTable['output_type'] = 'display_data';\n",
              "        await google.colab.output.renderOutput(dataTable, element);\n",
              "        const docLink = document.createElement('div');\n",
              "        docLink.innerHTML = docLinkHtml;\n",
              "        element.appendChild(docLink);\n",
              "      }\n",
              "    </script>\n",
              "  </div>\n",
              "\n",
              "\n",
              "<div id=\"df-45e00c6a-867c-4d6a-898a-7de5ef7fa656\">\n",
              "  <button class=\"colab-df-quickchart\" onclick=\"quickchart('df-45e00c6a-867c-4d6a-898a-7de5ef7fa656')\"\n",
              "            title=\"Suggest charts.\"\n",
              "            style=\"display:none;\">\n",
              "\n",
              "<svg xmlns=\"http://www.w3.org/2000/svg\" height=\"24px\"viewBox=\"0 0 24 24\"\n",
              "     width=\"24px\">\n",
              "    <g>\n",
              "        <path d=\"M19 3H5c-1.1 0-2 .9-2 2v14c0 1.1.9 2 2 2h14c1.1 0 2-.9 2-2V5c0-1.1-.9-2-2-2zM9 17H7v-7h2v7zm4 0h-2V7h2v10zm4 0h-2v-4h2v4z\"/>\n",
              "    </g>\n",
              "</svg>\n",
              "  </button>\n",
              "\n",
              "<style>\n",
              "  .colab-df-quickchart {\n",
              "      --bg-color: #E8F0FE;\n",
              "      --fill-color: #1967D2;\n",
              "      --hover-bg-color: #E2EBFA;\n",
              "      --hover-fill-color: #174EA6;\n",
              "      --disabled-fill-color: #AAA;\n",
              "      --disabled-bg-color: #DDD;\n",
              "  }\n",
              "\n",
              "  [theme=dark] .colab-df-quickchart {\n",
              "      --bg-color: #3B4455;\n",
              "      --fill-color: #D2E3FC;\n",
              "      --hover-bg-color: #434B5C;\n",
              "      --hover-fill-color: #FFFFFF;\n",
              "      --disabled-bg-color: #3B4455;\n",
              "      --disabled-fill-color: #666;\n",
              "  }\n",
              "\n",
              "  .colab-df-quickchart {\n",
              "    background-color: var(--bg-color);\n",
              "    border: none;\n",
              "    border-radius: 50%;\n",
              "    cursor: pointer;\n",
              "    display: none;\n",
              "    fill: var(--fill-color);\n",
              "    height: 32px;\n",
              "    padding: 0;\n",
              "    width: 32px;\n",
              "  }\n",
              "\n",
              "  .colab-df-quickchart:hover {\n",
              "    background-color: var(--hover-bg-color);\n",
              "    box-shadow: 0 1px 2px rgba(60, 64, 67, 0.3), 0 1px 3px 1px rgba(60, 64, 67, 0.15);\n",
              "    fill: var(--button-hover-fill-color);\n",
              "  }\n",
              "\n",
              "  .colab-df-quickchart-complete:disabled,\n",
              "  .colab-df-quickchart-complete:disabled:hover {\n",
              "    background-color: var(--disabled-bg-color);\n",
              "    fill: var(--disabled-fill-color);\n",
              "    box-shadow: none;\n",
              "  }\n",
              "\n",
              "  .colab-df-spinner {\n",
              "    border: 2px solid var(--fill-color);\n",
              "    border-color: transparent;\n",
              "    border-bottom-color: var(--fill-color);\n",
              "    animation:\n",
              "      spin 1s steps(1) infinite;\n",
              "  }\n",
              "\n",
              "  @keyframes spin {\n",
              "    0% {\n",
              "      border-color: transparent;\n",
              "      border-bottom-color: var(--fill-color);\n",
              "      border-left-color: var(--fill-color);\n",
              "    }\n",
              "    20% {\n",
              "      border-color: transparent;\n",
              "      border-left-color: var(--fill-color);\n",
              "      border-top-color: var(--fill-color);\n",
              "    }\n",
              "    30% {\n",
              "      border-color: transparent;\n",
              "      border-left-color: var(--fill-color);\n",
              "      border-top-color: var(--fill-color);\n",
              "      border-right-color: var(--fill-color);\n",
              "    }\n",
              "    40% {\n",
              "      border-color: transparent;\n",
              "      border-right-color: var(--fill-color);\n",
              "      border-top-color: var(--fill-color);\n",
              "    }\n",
              "    60% {\n",
              "      border-color: transparent;\n",
              "      border-right-color: var(--fill-color);\n",
              "    }\n",
              "    80% {\n",
              "      border-color: transparent;\n",
              "      border-right-color: var(--fill-color);\n",
              "      border-bottom-color: var(--fill-color);\n",
              "    }\n",
              "    90% {\n",
              "      border-color: transparent;\n",
              "      border-bottom-color: var(--fill-color);\n",
              "    }\n",
              "  }\n",
              "</style>\n",
              "\n",
              "  <script>\n",
              "    async function quickchart(key) {\n",
              "      const quickchartButtonEl =\n",
              "        document.querySelector('#' + key + ' button');\n",
              "      quickchartButtonEl.disabled = true;  // To prevent multiple clicks.\n",
              "      quickchartButtonEl.classList.add('colab-df-spinner');\n",
              "      try {\n",
              "        const charts = await google.colab.kernel.invokeFunction(\n",
              "            'suggestCharts', [key], {});\n",
              "      } catch (error) {\n",
              "        console.error('Error during call to suggestCharts:', error);\n",
              "      }\n",
              "      quickchartButtonEl.classList.remove('colab-df-spinner');\n",
              "      quickchartButtonEl.classList.add('colab-df-quickchart-complete');\n",
              "    }\n",
              "    (() => {\n",
              "      let quickchartButtonEl =\n",
              "        document.querySelector('#df-45e00c6a-867c-4d6a-898a-7de5ef7fa656 button');\n",
              "      quickchartButtonEl.style.display =\n",
              "        google.colab.kernel.accessAllowed ? 'block' : 'none';\n",
              "    })();\n",
              "  </script>\n",
              "</div>\n",
              "    </div>\n",
              "  </div>\n"
            ]
          },
          "metadata": {},
          "execution_count": 14
        }
      ]
    },
    {
      "cell_type": "code",
      "source": [
        "print(df2[80:90])"
      ],
      "metadata": {
        "colab": {
          "base_uri": "https://localhost:8080/"
        },
        "id": "UnAWFM5krJMO",
        "outputId": "fa1eb774-d878-4639-81c1-b49a779c7d7d"
      },
      "execution_count": null,
      "outputs": [
        {
          "output_type": "stream",
          "name": "stdout",
          "text": [
            "     filename  0  1  3  4  5  6\n",
            "80  H1916.png  0  0  1  0  1  0\n",
            "81  H1917.png  0  0  1  0  1  0\n",
            "82  H1918.png  0  0  1  0  1  0\n",
            "83  H1919.png  0  0  1  0  1  0\n",
            "84  H1920.png  0  0  1  0  1  0\n",
            "85  H1922.png  0  0  1  0  1  0\n",
            "86  H1923.png  0  0  1  0  1  0\n",
            "87  H1924.png  0  0  1  0  1  0\n",
            "88  H1925.png  0  0  1  0  1  0\n",
            "89  H1926.png  0  0  1  0  1  0\n"
          ]
        }
      ]
    },
    {
      "cell_type": "markdown",
      "metadata": {
        "id": "rJ6KXjlDDigK"
      },
      "source": [
        "**N.º RELATÓRIOS COM FALHA POR PARÂMETRO**"
      ]
    },
    {
      "cell_type": "code",
      "execution_count": null,
      "metadata": {
        "colab": {
          "base_uri": "https://localhost:8080/",
          "height": 490
        },
        "id": "Zme4cbZ3Cxuz",
        "outputId": "2d2fc48a-308e-49d4-8bfd-a9523baa046c"
      },
      "outputs": [
        {
          "output_type": "display_data",
          "data": {
            "text/plain": [
              "<Figure size 640x480 with 1 Axes>"
            ],
            "image/png": "[encoded data removed]"
          },
          "metadata": {}
        },
        {
          "output_type": "stream",
          "name": "stdout",
          "text": [
            "1730\n"
          ]
        }
      ],
      "source": [
        "#Gráfico gerado com o número de relatórios com falhas nos rótulos\n",
        "\n",
        "parametros = ['Hid', 'Rot', 'Vel', 'Conc', 'Ext', 'PE', 'SF']\n",
        "falhas = [df2[0].value_counts()[1],\n",
        "          df2[1].value_counts()[1],\n",
        "          df2[2].value_counts(normalize=True).get(1, 0),\n",
        "          df2[3].value_counts()[1],\n",
        "          df2[4].value_counts()[1],\n",
        "          df2[5].value_counts()[1],\n",
        "          df2[6].value_counts()[1]]\n",
        "\n",
        "plt.bar(parametros, falhas, color = 'black')\n",
        "\n",
        "plt.title('Falhas gráficas')\n",
        "plt.xlabel('Parâmetros')\n",
        "plt.ylabel('Número de falhas')\n",
        "plt.show()\n",
        "print(df2[1].value_counts()[1])"
      ]
    },
    {
      "cell_type": "markdown",
      "metadata": {
        "id": "ZiWmO8AuKkly"
      },
      "source": [
        "**TRATAMENTO DAS IMAGENS**"
      ]
    },
    {
      "cell_type": "code",
      "execution_count": null,
      "metadata": {
        "colab": {
          "base_uri": "https://localhost:8080/"
        },
        "id": "uQjSiebfeCuZ",
        "outputId": "b38f7016-9d14-4cc2-d95c-8867f53b532a"
      },
      "outputs": [
        {
          "output_type": "stream",
          "name": "stderr",
          "text": [
            "100%|██████████| 3690/3690 [1:04:30<00:00,  1.05s/it]\n"
          ]
        }
      ],
      "source": [
        "image_directory = '/content/drive/MyDrive/TCC - Leonardo/3 - Dataset' #Acessar o dataset\n",
        "\n",
        "\n",
        "X_dataset = []\n",
        "for i in tqdm(range(dfy.shape[0])): #a função tqdm cria uma barra de progresso\n",
        "    img = image.load_img(image_directory+'/' +df3['filename'][i], target_size=(200,200,3)) #Acessar a imagem seguindo a ordem dos dados do dataframe\n",
        "    img = image.img_to_array(img) #transformar em um array\n",
        "    img = img/255.    #normalização\n",
        "    X_dataset.append(img)\n",
        "\n",
        "X = np.array(X_dataset)\n",
        "y = np.array(dfy)\n",
        "\n",
        "\n"
      ]
    },
    {
      "cell_type": "code",
      "execution_count": null,
      "metadata": {
        "id": "cFu4GE0j7NYM"
      },
      "outputs": [],
      "source": [
        "print(X)"
      ]
    },
    {
      "cell_type": "markdown",
      "metadata": {
        "id": "ZuC4LaxpSPRD"
      },
      "source": [
        "**TREINO, VALIDAÇÃO E TESTE**"
      ]
    },
    {
      "cell_type": "code",
      "execution_count": null,
      "metadata": {
        "colab": {
          "base_uri": "https://localhost:8080/"
        },
        "id": "QFrweM5Xn09R",
        "outputId": "e53ff487-e252-4a58-d0ec-4800898fc38f"
      },
      "outputs": [
        {
          "output_type": "stream",
          "name": "stdout",
          "text": [
            "Balanceamento das classes no conjunto de treinamento:\n",
            "Counter({(5,): 1155, (1,): 986, (4,): 293, (1, 4): 209, (0, 1): 98, (2, 4): 80, (2, 3, 4): 36, (0, 1, 4): 30, (1, 2, 3, 4): 30, (1, 2, 4): 26, (0, 1, 2, 3, 4): 3, (3, 4): 3, (0, 1, 2, 4): 3})\n",
            "Balanceamento das classes no conjunto de teste:\n",
            "Counter({(5,): 289, (1,): 246, (4,): 74, (1, 4): 52, (0, 1): 25, (2, 4): 20, (2, 3, 4): 9, (0, 1, 4): 7, (1, 2, 3, 4): 7, (1, 2, 4): 6, (3, 4): 1, (0, 1, 2, 4): 1, (0, 1, 2, 3, 4): 1})\n",
            "Balanceamento das classes no conjunto de validação:\n",
            "Counter({(5,): 216, (1,): 207, (4,): 62, (1, 4): 46, (0, 1): 22, (2, 4): 17, (2, 3, 4): 7, (0, 1, 4): 5, (1, 2, 4): 5, (1, 2, 3, 4): 3, (0, 1, 2, 4): 1})\n"
          ]
        }
      ],
      "source": [
        "# Perform a stratified train-test split\n",
        "X_train_, X_test, y_train_, y_test = train_test_split(X, y, test_size=0.2, stratify=y)\n",
        "X_train, X_val, y_train, y_val = train_test_split(X_train_, y_train_, test_size=0.2)\n",
        "\n",
        "# Verificar o balanceamento das classes nos conjuntos de treinamento, teste e validação\n",
        "from collections import Counter\n",
        "\n",
        "print(\"Balanceamento das classes no conjunto de treinamento:\")\n",
        "print(Counter([tuple(np.where(y_train_[i])[0]) for i in range(y_train_.shape[0])]))\n",
        "\n",
        "print(\"Balanceamento das classes no conjunto de teste:\")\n",
        "print(Counter([tuple(np.where(y_test[i])[0]) for i in range(y_test.shape[0])]))\n",
        "\n",
        "print(\"Balanceamento das classes no conjunto de validação:\")\n",
        "print(Counter([tuple(np.where(y_val[i])[0]) for i in range(y_val.shape[0])]))"
      ]
    },
    {
      "cell_type": "code",
      "source": [
        "dt = pd.DataFrame(y_train_)\n",
        "dt\n",
        "\n",
        "filtro = dt[(dt[0] == 0) & (dt[1] == 0) & (dt[2] == 0) & (dt[3] == 1) & (dt[4] == 1) & (dt[5] == 0)]\n",
        "filtro"
      ],
      "metadata": {
        "colab": {
          "base_uri": "https://localhost:8080/"
        },
        "id": "9ZOJHnYUpW2e",
        "outputId": "a5d55dee-5c7a-4822-bed1-9f3e4f756bae"
      },
      "execution_count": null,
      "outputs": [
        {
          "output_type": "execute_result",
          "data": {
            "text/plain": [
              "      0  1  2  3  4  5\n",
              "1693  0  0  0  1  1  0\n",
              "2074  0  0  0  1  1  0\n",
              "2401  0  0  0  1  1  0"
            ],
            "text/html": [
              "\n",
              "  <div id=\"df-359792a9-944a-4e51-8e7c-ff2aa3858ea3\" class=\"colab-df-container\">\n",
              "    <div>\n",
              "<style scoped>\n",
              "    .dataframe tbody tr th:only-of-type {\n",
              "        vertical-align: middle;\n",
              "    }\n",
              "\n",
              "    .dataframe tbody tr th {\n",
              "        vertical-align: top;\n",
              "    }\n",
              "\n",
              "    .dataframe thead th {\n",
              "        text-align: right;\n",
              "    }\n",
              "</style>\n",
              "<table border=\"1\" class=\"dataframe\">\n",
              "  <thead>\n",
              "    <tr style=\"text-align: right;\">\n",
              "      <th></th>\n",
              "      <th>0</th>\n",
              "      <th>1</th>\n",
              "      <th>2</th>\n",
              "      <th>3</th>\n",
              "      <th>4</th>\n",
              "      <th>5</th>\n",
              "    </tr>\n",
              "  </thead>\n",
              "  <tbody>\n",
              "    <tr>\n",
              "      <th>1693</th>\n",
              "      <td>0</td>\n",
              "      <td>0</td>\n",
              "      <td>0</td>\n",
              "      <td>1</td>\n",
              "      <td>1</td>\n",
              "      <td>0</td>\n",
              "    </tr>\n",
              "    <tr>\n",
              "      <th>2074</th>\n",
              "      <td>0</td>\n",
              "      <td>0</td>\n",
              "      <td>0</td>\n",
              "      <td>1</td>\n",
              "      <td>1</td>\n",
              "      <td>0</td>\n",
              "    </tr>\n",
              "    <tr>\n",
              "      <th>2401</th>\n",
              "      <td>0</td>\n",
              "      <td>0</td>\n",
              "      <td>0</td>\n",
              "      <td>1</td>\n",
              "      <td>1</td>\n",
              "      <td>0</td>\n",
              "    </tr>\n",
              "  </tbody>\n",
              "</table>\n",
              "</div>\n",
              "    <div class=\"colab-df-buttons\">\n",
              "\n",
              "  <div class=\"colab-df-container\">\n",
              "    <button class=\"colab-df-convert\" onclick=\"convertToInteractive('df-359792a9-944a-4e51-8e7c-ff2aa3858ea3')\"\n",
              "            title=\"Convert this dataframe to an interactive table.\"\n",
              "            style=\"display:none;\">\n",
              "\n",
              "  <svg xmlns=\"http://www.w3.org/2000/svg\" height=\"24px\" viewBox=\"0 -960 960 960\">\n",
              "    <path d=\"M120-120v-720h720v720H120Zm60-500h600v-160H180v160Zm220 220h160v-160H400v160Zm0 220h160v-160H400v160ZM180-400h160v-160H180v160Zm440 0h160v-160H620v160ZM180-180h160v-160H180v160Zm440 0h160v-160H620v160Z\"/>\n",
              "  </svg>\n",
              "    </button>\n",
              "\n",
              "  <style>\n",
              "    .colab-df-container {\n",
              "      display:flex;\n",
              "      gap: 12px;\n",
              "    }\n",
              "\n",
              "    .colab-df-convert {\n",
              "      background-color: #E8F0FE;\n",
              "      border: none;\n",
              "      border-radius: 50%;\n",
              "      cursor: pointer;\n",
              "      display: none;\n",
              "      fill: #1967D2;\n",
              "      height: 32px;\n",
              "      padding: 0 0 0 0;\n",
              "      width: 32px;\n",
              "    }\n",
              "\n",
              "    .colab-df-convert:hover {\n",
              "      background-color: #E2EBFA;\n",
              "      box-shadow: 0px 1px 2px rgba(60, 64, 67, 0.3), 0px 1px 3px 1px rgba(60, 64, 67, 0.15);\n",
              "      fill: #174EA6;\n",
              "    }\n",
              "\n",
              "    .colab-df-buttons div {\n",
              "      margin-bottom: 4px;\n",
              "    }\n",
              "\n",
              "    [theme=dark] .colab-df-convert {\n",
              "      background-color: #3B4455;\n",
              "      fill: #D2E3FC;\n",
              "    }\n",
              "\n",
              "    [theme=dark] .colab-df-convert:hover {\n",
              "      background-color: #434B5C;\n",
              "      box-shadow: 0px 1px 3px 1px rgba(0, 0, 0, 0.15);\n",
              "      filter: drop-shadow(0px 1px 2px rgba(0, 0, 0, 0.3));\n",
              "      fill: #FFFFFF;\n",
              "    }\n",
              "  </style>\n",
              "\n",
              "    <script>\n",
              "      const buttonEl =\n",
              "        document.querySelector('#df-359792a9-944a-4e51-8e7c-ff2aa3858ea3 button.colab-df-convert');\n",
              "      buttonEl.style.display =\n",
              "        google.colab.kernel.accessAllowed ? 'block' : 'none';\n",
              "\n",
              "      async function convertToInteractive(key) {\n",
              "        const element = document.querySelector('#df-359792a9-944a-4e51-8e7c-ff2aa3858ea3');\n",
              "        const dataTable =\n",
              "          await google.colab.kernel.invokeFunction('convertToInteractive',\n",
              "                                                    [key], {});\n",
              "        if (!dataTable) return;\n",
              "\n",
              "        const docLinkHtml = 'Like what you see? Visit the ' +\n",
              "          '<a target=\"_blank\" href=https://colab.research.google.com/notebooks/data_table.ipynb>data table notebook</a>'\n",
              "          + ' to learn more about interactive tables.';\n",
              "        element.innerHTML = '';\n",
              "        dataTable['output_type'] = 'display_data';\n",
              "        await google.colab.output.renderOutput(dataTable, element);\n",
              "        const docLink = document.createElement('div');\n",
              "        docLink.innerHTML = docLinkHtml;\n",
              "        element.appendChild(docLink);\n",
              "      }\n",
              "    </script>\n",
              "  </div>\n",
              "\n",
              "\n",
              "<div id=\"df-6a002512-161d-4a6f-ba74-8979492bae31\">\n",
              "  <button class=\"colab-df-quickchart\" onclick=\"quickchart('df-6a002512-161d-4a6f-ba74-8979492bae31')\"\n",
              "            title=\"Suggest charts.\"\n",
              "            style=\"display:none;\">\n",
              "\n",
              "<svg xmlns=\"http://www.w3.org/2000/svg\" height=\"24px\"viewBox=\"0 0 24 24\"\n",
              "     width=\"24px\">\n",
              "    <g>\n",
              "        <path d=\"M19 3H5c-1.1 0-2 .9-2 2v14c0 1.1.9 2 2 2h14c1.1 0 2-.9 2-2V5c0-1.1-.9-2-2-2zM9 17H7v-7h2v7zm4 0h-2V7h2v10zm4 0h-2v-4h2v4z\"/>\n",
              "    </g>\n",
              "</svg>\n",
              "  </button>\n",
              "\n",
              "<style>\n",
              "  .colab-df-quickchart {\n",
              "      --bg-color: #E8F0FE;\n",
              "      --fill-color: #1967D2;\n",
              "      --hover-bg-color: #E2EBFA;\n",
              "      --hover-fill-color: #174EA6;\n",
              "      --disabled-fill-color: #AAA;\n",
              "      --disabled-bg-color: #DDD;\n",
              "  }\n",
              "\n",
              "  [theme=dark] .colab-df-quickchart {\n",
              "      --bg-color: #3B4455;\n",
              "      --fill-color: #D2E3FC;\n",
              "      --hover-bg-color: #434B5C;\n",
              "      --hover-fill-color: #FFFFFF;\n",
              "      --disabled-bg-color: #3B4455;\n",
              "      --disabled-fill-color: #666;\n",
              "  }\n",
              "\n",
              "  .colab-df-quickchart {\n",
              "    background-color: var(--bg-color);\n",
              "    border: none;\n",
              "    border-radius: 50%;\n",
              "    cursor: pointer;\n",
              "    display: none;\n",
              "    fill: var(--fill-color);\n",
              "    height: 32px;\n",
              "    padding: 0;\n",
              "    width: 32px;\n",
              "  }\n",
              "\n",
              "  .colab-df-quickchart:hover {\n",
              "    background-color: var(--hover-bg-color);\n",
              "    box-shadow: 0 1px 2px rgba(60, 64, 67, 0.3), 0 1px 3px 1px rgba(60, 64, 67, 0.15);\n",
              "    fill: var(--button-hover-fill-color);\n",
              "  }\n",
              "\n",
              "  .colab-df-quickchart-complete:disabled,\n",
              "  .colab-df-quickchart-complete:disabled:hover {\n",
              "    background-color: var(--disabled-bg-color);\n",
              "    fill: var(--disabled-fill-color);\n",
              "    box-shadow: none;\n",
              "  }\n",
              "\n",
              "  .colab-df-spinner {\n",
              "    border: 2px solid var(--fill-color);\n",
              "    border-color: transparent;\n",
              "    border-bottom-color: var(--fill-color);\n",
              "    animation:\n",
              "      spin 1s steps(1) infinite;\n",
              "  }\n",
              "\n",
              "  @keyframes spin {\n",
              "    0% {\n",
              "      border-color: transparent;\n",
              "      border-bottom-color: var(--fill-color);\n",
              "      border-left-color: var(--fill-color);\n",
              "    }\n",
              "    20% {\n",
              "      border-color: transparent;\n",
              "      border-left-color: var(--fill-color);\n",
              "      border-top-color: var(--fill-color);\n",
              "    }\n",
              "    30% {\n",
              "      border-color: transparent;\n",
              "      border-left-color: var(--fill-color);\n",
              "      border-top-color: var(--fill-color);\n",
              "      border-right-color: var(--fill-color);\n",
              "    }\n",
              "    40% {\n",
              "      border-color: transparent;\n",
              "      border-right-color: var(--fill-color);\n",
              "      border-top-color: var(--fill-color);\n",
              "    }\n",
              "    60% {\n",
              "      border-color: transparent;\n",
              "      border-right-color: var(--fill-color);\n",
              "    }\n",
              "    80% {\n",
              "      border-color: transparent;\n",
              "      border-right-color: var(--fill-color);\n",
              "      border-bottom-color: var(--fill-color);\n",
              "    }\n",
              "    90% {\n",
              "      border-color: transparent;\n",
              "      border-bottom-color: var(--fill-color);\n",
              "    }\n",
              "  }\n",
              "</style>\n",
              "\n",
              "  <script>\n",
              "    async function quickchart(key) {\n",
              "      const quickchartButtonEl =\n",
              "        document.querySelector('#' + key + ' button');\n",
              "      quickchartButtonEl.disabled = true;  // To prevent multiple clicks.\n",
              "      quickchartButtonEl.classList.add('colab-df-spinner');\n",
              "      try {\n",
              "        const charts = await google.colab.kernel.invokeFunction(\n",
              "            'suggestCharts', [key], {});\n",
              "      } catch (error) {\n",
              "        console.error('Error during call to suggestCharts:', error);\n",
              "      }\n",
              "      quickchartButtonEl.classList.remove('colab-df-spinner');\n",
              "      quickchartButtonEl.classList.add('colab-df-quickchart-complete');\n",
              "    }\n",
              "    (() => {\n",
              "      let quickchartButtonEl =\n",
              "        document.querySelector('#df-6a002512-161d-4a6f-ba74-8979492bae31 button');\n",
              "      quickchartButtonEl.style.display =\n",
              "        google.colab.kernel.accessAllowed ? 'block' : 'none';\n",
              "    })();\n",
              "  </script>\n",
              "</div>\n",
              "    </div>\n",
              "  </div>\n"
            ]
          },
          "metadata": {},
          "execution_count": 11
        }
      ]
    },
    {
      "cell_type": "markdown",
      "metadata": {
        "id": "eiIJkacM2_sS"
      },
      "source": [
        "**LeNet**"
      ]
    },
    {
      "cell_type": "code",
      "execution_count": null,
      "metadata": {
        "id": "3MmrzqjzAkyG"
      },
      "outputs": [],
      "source": [
        "EPOCHS = 40\n",
        "\n",
        "model = Sequential([\n",
        "    Conv2D(filters=6, kernel_size=(5, 5), strides=(1,1), padding='valid', activation='tanh', input_shape=(32,32,3)),\n",
        "    AveragePooling2D(pool_size= (2, 2), strides=(2,2), padding='valid'),\n",
        "\n",
        "    Conv2D(filters=16, kernel_size=(5, 5), strides=(1,1), padding='valid', activation='tanh'),\n",
        "    AveragePooling2D(pool_size= (2, 2), strides=(2,2), padding='valid'),\n",
        "\n",
        "    Flatten(),\n",
        "\n",
        "    Dense(units=120, activation='tanh'),\n",
        "    Dense(units=84, activation='tanh'),\n",
        "    Dense(units=6, activation = 'sigmoid')])\n",
        "\n",
        "model.summary()\n",
        "model.compile(optimizer='adam', loss = 'binary_crossentropy', metrics=['accuracy'])\n",
        "\n",
        "checkpoint_path = \"best_model.ckpt\"\n",
        "checkpoint_dir = os.path.dirname(checkpoint_path)\n",
        "\n",
        "# criar um callback para salvar o peso do modelo\n",
        "cp_callback = tf.keras.callbacks.ModelCheckpoint(filepath=checkpoint_path,\n",
        "                                                 save_best_only = True,\n",
        "                                                 verbose=1)\n",
        "\n",
        "history = model.fit(X_train_, y_train_, epochs=EPOCHS, validation_data=(X_val, y_val), batch_size=64, callbacks=[cp_callback])\n"
      ]
    },
    {
      "cell_type": "markdown",
      "metadata": {
        "id": "3mpGMCfFPyoH"
      },
      "source": [
        "**PREVISÃO DO MODELO**"
      ]
    },
    {
      "cell_type": "code",
      "execution_count": null,
      "metadata": {
        "id": "YVovxkOlP5ys",
        "colab": {
          "base_uri": "https://localhost:8080/"
        },
        "outputId": "55849459-f303-4bae-97a9-baf2492cd30b"
      },
      "outputs": [
        {
          "output_type": "stream",
          "name": "stdout",
          "text": [
            "24/24 [==============================] - 2s 18ms/step\n",
            "Best Threshold: 0.1\n",
            "Best F1-score: 0.3403298350824588\n",
            "[[1 1 1 1 1 1]\n",
            " [1 1 1 1 1 1]\n",
            " [1 1 1 1 1 1]\n",
            " ...\n",
            " [1 1 1 1 1 1]\n",
            " [1 1 1 1 1 1]\n",
            " [1 1 1 1 1 1]]\n",
            "738 6\n"
          ]
        }
      ],
      "source": [
        "#from pandas.io.formats.printing import PrettyDict\n",
        "pdc = model.predict(X_test)\n",
        "\n",
        "# Create an array of thresholds to try\n",
        "thresholds = np.arange(0.1, 1.0, 0.1)  # Adjust the range and step size as needed\n",
        "\n",
        "best_f1 = 0\n",
        "best_threshold = 0\n",
        "y_pred,y_true = pdc, y_test\n",
        "# Iterate over each threshold and calculate F1-score\n",
        "for threshold in thresholds:\n",
        "    y_pred_binary = (y_pred > threshold).astype(int)\n",
        "    f1 = f1_score(y_true, y_pred_binary, average='micro')\n",
        "\n",
        "    # Update the best F1-score and threshold if a higher F1-score is found\n",
        "    if f1 > best_f1:\n",
        "        best_f1 = f1\n",
        "        best_threshold = threshold\n",
        "\n",
        "# Print the best threshold and corresponding F1-score\n",
        "print('Best Threshold:', best_threshold)\n",
        "print('Best F1-score:', best_f1)\n",
        "\n",
        "y_binary = (pdc > best_threshold).astype(int)\n",
        "print(y_binary)\n",
        "print(len(y_binary),len(y_binary[0]))"
      ]
    },
    {
      "cell_type": "markdown",
      "metadata": {
        "id": "P6fq-RelQXV_"
      },
      "source": [
        "##**MÉTRICAS**"
      ]
    },
    {
      "cell_type": "code",
      "execution_count": null,
      "metadata": {
        "id": "u53rlrQMQ-Tv",
        "colab": {
          "base_uri": "https://localhost:8080/",
          "height": 1000
        },
        "outputId": "6c03bdf6-d85b-4f0a-a449-a7b5d95ac631"
      },
      "outputs": [
        {
          "output_type": "display_data",
          "data": {
            "text/plain": [
              "<Figure size 800x3600 with 6 Axes>"
            ],
            "image/png": "[encoded data removed]"
          },
          "metadata": {}
        }
      ],
      "source": [
        "caracteristicas = ['Hid', 'Rot', 'Conc', 'Ext', 'Perf', 'SF']\n",
        "\n",
        "# Assuming you have the ground truth labels stored in y_true and the predicted labels in y_pred\n",
        "\n",
        "# Compute the multilabel confusion matrix\n",
        "cm = multilabel_confusion_matrix(y_true, y_binary)\n",
        "\n",
        "# Plot the confusion matrix\n",
        "num_classes = cm.shape[0]\n",
        "fig, axes = plt.subplots(num_classes, figsize=(8, 6 * num_classes))\n",
        "for i, ax in enumerate(axes):\n",
        "    ax.matshow(cm[i], cmap=plt.cm.Blues)\n",
        "    ax.set_title('Class: '+caracteristicas[i])\n",
        "    ax.set_xlabel('Predicted labels')\n",
        "    ax.set_ylabel('True labels')\n",
        "    ax.set_xticks([0, 1])\n",
        "    ax.set_yticks([0, 1])\n",
        "    ax.set_xticklabels(['False', 'True'])\n",
        "    ax.set_yticklabels(['False', 'True'])\n",
        "    for (j, k), value in np.ndenumerate(cm[i]):\n",
        "        ax.text(k, j, f'{value}', ha='center', va='center', fontsize=12)\n",
        "\n",
        "\n",
        "\n",
        "plt.tight_layout()\n",
        "plt.show()"
      ]
    },
    {
      "cell_type": "code",
      "execution_count": null,
      "metadata": {
        "id": "vjL6eS8qRT8I",
        "colab": {
          "base_uri": "https://localhost:8080/"
        },
        "outputId": "9dcee4ea-a9b2-4b95-cfde-be1771246535"
      },
      "outputs": [
        {
          "output_type": "stream",
          "name": "stdout",
          "text": [
            "              precision    recall  f1-score   support\n",
            "\n",
            "         Hid       0.05      1.00      0.09        34\n",
            "         Rot       0.47      1.00      0.64       345\n",
            "        Conc       0.06      1.00      0.11        44\n",
            "         Ext       0.02      1.00      0.05        18\n",
            "          PE       0.24      1.00      0.39       178\n",
            "          SF       0.39      1.00      0.56       289\n",
            "\n",
            "   micro avg       0.21      1.00      0.34       908\n",
            "   macro avg       0.21      1.00      0.31       908\n",
            "weighted avg       0.35      1.00      0.51       908\n",
            " samples avg       0.21      1.00      0.33       908\n",
            "\n"
          ]
        }
      ],
      "source": [
        "from sklearn.metrics import classification_report\n",
        "\n",
        "classes = ['Hid', 'Rot', 'Conc', 'Ext', 'PE', 'SF']\n",
        "print(classification_report(y_test, y_binary,target_names=classes))"
      ]
    }
  ],
  "metadata": {
    "accelerator": "GPU",
    "colab": {
      "provenance": [],
      "include_colab_link": true
    },
    "kernelspec": {
      "display_name": "Python 3",
      "name": "python3"
    },
    "language_info": {
      "name": "python"
    }
  },
  "nbformat": 4,
  "nbformat_minor": 0
}